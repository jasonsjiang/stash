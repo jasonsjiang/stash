{
 "cells": [
  {
   "cell_type": "markdown",
   "metadata": {},
   "source": [
    "# Energy Access \n",
    "\n",
    "\n",
    "In this notebook, you will investigate the Human Development Index (HDI) and observe how various factors such as GNI per capita, life expectancy, and education affect HDI, using data from the World Bank.\n",
    "\n",
    "**Dependencies:**"
   ]
  },
  {
   "cell_type": "code",
   "execution_count": 1,
   "metadata": {},
   "outputs": [],
   "source": [
    "import numpy as np\n",
    "import pandas as pd\n",
    "import matplotlib.pyplot as plt\n",
    "\n",
    "plt.style.use('fivethirtyeight')\n",
    "\n",
    "from IPython.display import display, Latex, Markdown"
   ]
  },
  {
   "cell_type": "markdown",
   "metadata": {},
   "source": [
    "<br>\n",
    "\n",
    "----\n",
    "\n",
    "\n",
    "<img src=\"hdi.png\" width=800>\n",
    "\n",
    "In this section, we will normalize each individual metric (GNI, life expectancy, education) and compute HDI based on the United Nations [guide](http://hdr.undp.org/sites/default/files/hdr2016_technical_notes_0.pdf \"UNDP HDI Notes\"). \"The Human Development Index (HDI) is a summary measure of average achievement in key dimensions of human development: a long and healthy life, being knowledgeable and have a decent standard of living. The HDI is the geometric mean of normalized indices for each of the three dimensions.\"\n",
    "\n",
    "<br>\n",
    "The formula for calculating HDI is here:  \n",
    "<img src=\"hdicalc.png\" width=300>\n",
    "\n",
    "<br>\n"
   ]
  },
  {
   "cell_type": "code",
   "execution_count": 27,
   "metadata": {},
   "outputs": [
    {
     "data": {
      "text/html": [
       "<div>\n",
       "<style scoped>\n",
       "    .dataframe tbody tr th:only-of-type {\n",
       "        vertical-align: middle;\n",
       "    }\n",
       "\n",
       "    .dataframe tbody tr th {\n",
       "        vertical-align: top;\n",
       "    }\n",
       "\n",
       "    .dataframe thead th {\n",
       "        text-align: right;\n",
       "    }\n",
       "</style>\n",
       "<table border=\"1\" class=\"dataframe\">\n",
       "  <thead>\n",
       "    <tr style=\"text-align: right;\">\n",
       "      <th></th>\n",
       "      <th>Income Group</th>\n",
       "      <th>Country</th>\n",
       "      <th>Year(s)</th>\n",
       "      <th>Life</th>\n",
       "      <th>Ed_expected</th>\n",
       "      <th>HDI Rank</th>\n",
       "      <th>Ed_mean</th>\n",
       "      <th>GNI</th>\n",
       "    </tr>\n",
       "  </thead>\n",
       "  <tbody>\n",
       "    <tr>\n",
       "      <th>0</th>\n",
       "      <td>Low income</td>\n",
       "      <td>Afghanistan</td>\n",
       "      <td>2012</td>\n",
       "      <td>60</td>\n",
       "      <td>9.9</td>\n",
       "      <td>169</td>\n",
       "      <td>3.4</td>\n",
       "      <td>1900.0</td>\n",
       "    </tr>\n",
       "    <tr>\n",
       "      <th>1</th>\n",
       "      <td>Lower middle income</td>\n",
       "      <td>Angola</td>\n",
       "      <td>2012</td>\n",
       "      <td>51</td>\n",
       "      <td>11.4</td>\n",
       "      <td>150</td>\n",
       "      <td>4.8</td>\n",
       "      <td>5550.0</td>\n",
       "    </tr>\n",
       "    <tr>\n",
       "      <th>2</th>\n",
       "      <td>Upper middle income</td>\n",
       "      <td>Albania</td>\n",
       "      <td>2012</td>\n",
       "      <td>74</td>\n",
       "      <td>14.2</td>\n",
       "      <td>75</td>\n",
       "      <td>9.6</td>\n",
       "      <td>10450.0</td>\n",
       "    </tr>\n",
       "    <tr>\n",
       "      <th>3</th>\n",
       "      <td>High income</td>\n",
       "      <td>Andorra</td>\n",
       "      <td>2012</td>\n",
       "      <td>83</td>\n",
       "      <td>13.5</td>\n",
       "      <td>32</td>\n",
       "      <td>9.6</td>\n",
       "      <td>NaN</td>\n",
       "    </tr>\n",
       "    <tr>\n",
       "      <th>4</th>\n",
       "      <td>High income</td>\n",
       "      <td>United Arab Emirates</td>\n",
       "      <td>2012</td>\n",
       "      <td>76</td>\n",
       "      <td>13.3</td>\n",
       "      <td>42</td>\n",
       "      <td>9.2</td>\n",
       "      <td>60600.0</td>\n",
       "    </tr>\n",
       "  </tbody>\n",
       "</table>\n",
       "</div>"
      ],
      "text/plain": [
       "          Income Group               Country  Year(s)  Life  Ed_expected  \\\n",
       "0           Low income           Afghanistan     2012    60          9.9   \n",
       "1  Lower middle income                Angola     2012    51         11.4   \n",
       "2  Upper middle income               Albania     2012    74         14.2   \n",
       "3          High income               Andorra     2012    83         13.5   \n",
       "4          High income  United Arab Emirates     2012    76         13.3   \n",
       "\n",
       "   HDI Rank  Ed_mean      GNI  \n",
       "0       169      3.4   1900.0  \n",
       "1       150      4.8   5550.0  \n",
       "2        75      9.6  10450.0  \n",
       "3        32      9.6      NaN  \n",
       "4        42      9.2  60600.0  "
      ]
     },
     "execution_count": 27,
     "metadata": {},
     "output_type": "execute_result"
    }
   ],
   "source": [
    "# RUN THIS CELL\n",
    "life_ed_gni = pd.read_csv('data/life_ed_gni.csv')\n",
    "life_ed_gni.head()"
   ]
  },
  {
   "cell_type": "markdown",
   "metadata": {},
   "source": [
    "Define a function that normalizes GNI. Test this function by inputting Afghanistan's GPP in 2012 (use the `gni_all` table)."
   ]
  },
  {
   "cell_type": "code",
   "execution_count": 28,
   "metadata": {},
   "outputs": [],
   "source": [
    "#Solution\n",
    "def normalize_GNI(gni):\n",
    "    \"\"\"\n",
    "    Normalize GNI to get the Income Index.\n",
    "\n",
    "    Args:\n",
    "        An integer corresponding to the GNI PPP\n",
    "        of a country and year\n",
    "\n",
    "    Returns:\n",
    "        The Income Index (int)\n",
    "    \"\"\"\n",
    "    numerator = (np.log(gni)-np.log(100))\n",
    "    denominator = (np.log(75000)-np.log(100))\n",
    "    return np.divide(numerator, denominator)"
   ]
  },
  {
   "cell_type": "markdown",
   "metadata": {},
   "source": [
    "Run the following cell -- if it raises an error, that means there's an error in the function."
   ]
  },
  {
   "cell_type": "code",
   "execution_count": 29,
   "metadata": {},
   "outputs": [],
   "source": [
    "# TEST YOUR FUNCTION\n",
    "first_num = life_ed_gni.loc[0,'GNI']\n",
    "\n",
    "test_gni_ans = normalize_GNI(first_num)\n",
    "\n",
    "assert test_gni_ans == 0.4447743835010624"
   ]
  },
  {
   "cell_type": "markdown",
   "metadata": {},
   "source": [
    "Define a function that normalizes life expectancy. Test this function by inputting Afghanistan's life expectancy for both sexes in 2012."
   ]
  },
  {
   "cell_type": "code",
   "execution_count": 30,
   "metadata": {},
   "outputs": [],
   "source": [
    "#Solution\n",
    "def normalize_life(life):\n",
    "    \"\"\"\n",
    "    Normalize life expectancy to get the Life Expectancy Index.\n",
    "\n",
    "    Args:\n",
    "        An integer corresponding to the life\n",
    "        expectancy for both sexes\n",
    "\n",
    "    Returns:\n",
    "        The Life Expectancy Index (int)\n",
    "    \"\"\"\n",
    "    sub = life-20\n",
    "    constants = 85-20\n",
    "    return np.divide(sub, constants)"
   ]
  },
  {
   "cell_type": "code",
   "execution_count": 31,
   "metadata": {},
   "outputs": [],
   "source": [
    "# TEST YOUR FUNCTION\n",
    "life_num = life_ed_gni.loc[0,'Life']\n",
    "\n",
    "test_life_ans = normalize_life(life_num)\n",
    "assert test_life_ans == 0.6153846153846154"
   ]
  },
  {
   "cell_type": "markdown",
   "metadata": {},
   "source": [
    "Define a function that calculates the Expected Index. Test this function by inputting Afghanistan's expected years of schooling for 2012 and mean years of schooling for 2012."
   ]
  },
  {
   "cell_type": "code",
   "execution_count": 32,
   "metadata": {},
   "outputs": [],
   "source": [
    "#Solution\n",
    "def normalize_ed(mean_var, exp_var):\n",
    "    \"\"\"\n",
    "    Normalize years of schooling to get the Years of Schooling Index.\n",
    "\n",
    "    Args:\n",
    "        First variable is mean education, second is expected education.\n",
    "\n",
    "    Returns:\n",
    "        The Years of Schooling Index (int)\n",
    "    \"\"\" \n",
    "    mysi = np.divide(mean_var, 15)\n",
    "    eysi = np.divide(exp_var, 18)\n",
    "    add = mysi+eysi\n",
    "    return np.divide(add, 2)"
   ]
  },
  {
   "cell_type": "code",
   "execution_count": 33,
   "metadata": {},
   "outputs": [],
   "source": [
    "# TEST YOUR FUNCTION\n",
    "ed_nums = life_ed_gni.loc[0,['Ed_mean', 'Ed_expected']]\n",
    "\n",
    "test_ed_ans = normalize_ed(ed_nums[0],ed_nums[1])\n",
    "assert  test_ed_ans == 0.38833333333333336"
   ]
  },
  {
   "cell_type": "markdown",
   "metadata": {},
   "source": [
    "Define a function that calculates the HDI. Test this function by inputting Afghanistan's normalized GPP in 2012, normalized life expectancy for both sexes in 2012, and normalized expected years of schooling in 2012."
   ]
  },
  {
   "cell_type": "code",
   "execution_count": 34,
   "metadata": {},
   "outputs": [],
   "source": [
    "#Solution\n",
    "def calc_hdi(gni_var, life_var, ed_var):\n",
    "    \"\"\"\n",
    "    Compute HDI from normalized gni, life and education variables.\n",
    "    \n",
    "    Args:\n",
    "        normalized gni (first entry), life (second entry) and education (third entry).\n",
    "    \n",
    "    Returns: \n",
    "        The HDI (float)\n",
    "    \"\"\" \n",
    "    var = gni_var * life_var * ed_var\n",
    "    return var **(np.divide(1,3))"
   ]
  },
  {
   "cell_type": "code",
   "execution_count": 35,
   "metadata": {},
   "outputs": [],
   "source": [
    "#these three values were calculated using the previous three functions\n",
    "assert calc_hdi(test_gni_ans, test_life_ans, test_ed_ans) == 0.4736930620781577"
   ]
  },
  {
   "cell_type": "markdown",
   "metadata": {},
   "source": [
    "Use .apply() to create three new columns in the life_ed_gni data frame.  \n",
    "\n",
    "* The first new column will be normalized GNI, called 'GNI_n'\n",
    "* The second new column will be normalized life, called 'Life_n'\n",
    "* The third new column will be normalized Education, called 'Ed_n'"
   ]
  },
  {
   "cell_type": "code",
   "execution_count": 36,
   "metadata": {},
   "outputs": [],
   "source": [
    "#Solution\n",
    "life_ed_gni['GNI_n']= life_ed_gni['GNI'].apply(normalize_GNI)\n",
    "life_ed_gni['Life_n']= life_ed_gni['Life'].apply(normalize_life)\n",
    "life_ed_gni['Ed_n']= life_ed_gni[['Ed_mean','Ed_expected']].apply(lambda x: normalize_ed(x['Ed_mean'], x['Ed_expected']), axis=1)"
   ]
  }
 ],
 "metadata": {
  "kernelspec": {
   "display_name": "Python 3",
   "language": "python",
   "name": "python3"
  },
  "language_info": {
   "codemirror_mode": {
    "name": "ipython",
    "version": 3
   },
   "file_extension": ".py",
   "mimetype": "text/x-python",
   "name": "python",
   "nbconvert_exporter": "python",
   "pygments_lexer": "ipython3",
   "version": "3.7.3"
  }
 },
 "nbformat": 4,
 "nbformat_minor": 4
}
