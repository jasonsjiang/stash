{
 "cells": [
  {
   "cell_type": "markdown",
   "metadata": {},
   "source": [
    "# Energy Access \n",
    "\n",
    "\n",
    "In this notebook, you will investigate the Human Development Index (HDI) and observe how various factors such as GNI per capita, life expectancy, and education affect HDI, using data from the World Bank.\n",
    "\n",
    "**Dependencies:**"
   ]
  },
  {
   "cell_type": "code",
   "execution_count": null,
   "metadata": {},
   "outputs": [],
   "source": [
    "import numpy as np\n",
    "import pandas as pd\n",
    "import matplotlib.pyplot as plt\n",
    "\n",
    "plt.style.use('fivethirtyeight')\n",
    "\n",
    "from IPython.display import display, Latex, Markdown"
   ]
  },
  {
   "cell_type": "markdown",
   "metadata": {},
   "source": [
    "<br>\n",
    "\n",
    "----\n",
    "\n",
    "<img src=\"hdi.png\" width=800>\n",
    "\n",
    "We will normalize each individual metric (GNI, life expectancy, education) and compute HDI based on the United Nations [guide](http://hdr.undp.org/sites/default/files/hdr2016_technical_notes_0.pdf \"UNDP HDI Notes\"). \"The Human Development Index (HDI) is a summary measure of average achievement in key dimensions of human development: a long and healthy life, being knowledgeable and have a decent standard of living. The HDI is the geometric mean of normalized indices for each of the three dimensions.\"\n",
    "\n",
    "<br>\n",
    "The formula for calculating HDI is here:  \n",
    "<img src=\"hdicalc.png\" width=300>\n",
    "\n",
    "<br>\n"
   ]
  },
  {
   "cell_type": "code",
   "execution_count": null,
   "metadata": {},
   "outputs": [],
   "source": [
    "# data\n",
    "life_ed_gni = pd.read_csv('data/life_ed_gni.csv')\n",
    "life_ed_gni.head()"
   ]
  },
  {
   "cell_type": "markdown",
   "metadata": {},
   "source": [
    "Define a function that normalizes GNI. Test this function by inputting Afghanistan's GPP in 2012 (use the `gni_all` table)."
   ]
  },
  {
   "cell_type": "code",
   "execution_count": null,
   "metadata": {},
   "outputs": [],
   "source": [
    "def normalize_GNI(gni):\n",
    "    \"\"\"\n",
    "    Normalize GNI to get the Income Index.\n",
    "\n",
    "    Args:\n",
    "        An integer corresponding to the GNI PPP\n",
    "        of a country and year\n",
    "\n",
    "    Returns:\n",
    "        The Income Index (int)\n",
    "    \"\"\"\n",
    "    numerator = (np.log(...)-np.log(...))\n",
    "    denominator = (np.log(...)-np.log(...))\n",
    "    return np.divide(numerator, denominator)"
   ]
  },
  {
   "cell_type": "code",
   "execution_count": null,
   "metadata": {},
   "outputs": [],
   "source": [
    "# TEST YOUR FUNCTION\n",
    "first_num = life_ed_gni.loc[0,'GNI']\n",
    "\n",
    "test_gni_ans = normalize_GNI(first_num)\n",
    "\n",
    "assert test_gni_ans == 0.4447743835010624"
   ]
  },
  {
   "cell_type": "markdown",
   "metadata": {},
   "source": [
    "Define a function that normalizes life expectancy. Test this function by inputting Afghanistan's life expectancy for both sexes in 2012."
   ]
  },
  {
   "cell_type": "code",
   "execution_count": null,
   "metadata": {},
   "outputs": [],
   "source": [
    "def normalize_life(life):\n",
    "    \"\"\"\n",
    "    Normalize life expectancy to get the Life Expectancy Index.\n",
    "\n",
    "    Args:\n",
    "        An integer corresponding to the life\n",
    "        expectancy for both sexes\n",
    "\n",
    "    Returns:\n",
    "        The Life Expectancy Index (int)\n",
    "    \"\"\"\n",
    "    sub = life-20\n",
    "    constants = 85-20\n",
    "    return np.divide(..., ...)"
   ]
  },
  {
   "cell_type": "markdown",
   "metadata": {},
   "source": [
    "Test the function by running the cell below -- if it raises an error, that means there's an error with the function."
   ]
  },
  {
   "cell_type": "code",
   "execution_count": null,
   "metadata": {},
   "outputs": [],
   "source": [
    "# TEST YOUR FUNCTION\n",
    "life_num = life_ed_gni.loc[0,'Life']\n",
    "\n",
    "test_life_ans = normalize_life(life_num)\n",
    "assert test_life_ans == 0.6153846153846154"
   ]
  },
  {
   "cell_type": "markdown",
   "metadata": {},
   "source": [
    "**Question 3.3:** Define a function that calculates the Expected Index. Test this function by inputting Afghanistan's expected years of schooling for 2012 and mean years of schooling for 2012."
   ]
  },
  {
   "cell_type": "code",
   "execution_count": null,
   "metadata": {},
   "outputs": [],
   "source": [
    "def normalize_ed(mean_var, exp_var):\n",
    "    \"\"\"\n",
    "    Normalize years of schooling to get the Years of Schooling Index.\n",
    "\n",
    "    Args:\n",
    "        First variable is mean education, second is expected education.\n",
    "\n",
    "    Returns:\n",
    "        The Years of Schooling Index (int)\n",
    "    \"\"\" \n",
    "    mysi = np.divide(mean_var, ...)\n",
    "    eysi = np.divide(exp_var, ...)\n",
    "    add = mysi+eysi\n",
    "    return np.divide(add, 2)"
   ]
  },
  {
   "cell_type": "markdown",
   "metadata": {},
   "source": [
    "Test the function by running the cell below -- if it raises an error, that means there's an error with the function."
   ]
  },
  {
   "cell_type": "code",
   "execution_count": null,
   "metadata": {},
   "outputs": [],
   "source": [
    "# TEST YOUR FUNCTION\n",
    "ed_nums = life_ed_gni.loc[0,['Ed_mean', 'Ed_expected']]\n",
    "\n",
    "test_ed_ans = normalize_ed(ed_nums[0],ed_nums[1])\n",
    "assert  test_ed_ans == 0.38833333333333336"
   ]
  },
  {
   "cell_type": "markdown",
   "metadata": {},
   "source": [
    "Define a function that calculates the HDI. Test this function by inputting Afghanistan's normalized GPP in 2012, normalized life expectancy for both sexes in 2012, and normalized expected years of schooling in 2012."
   ]
  },
  {
   "cell_type": "code",
   "execution_count": null,
   "metadata": {},
   "outputs": [],
   "source": [
    "def calc_hdi(gni_var, life_var, ed_var):\n",
    "    \"\"\"\n",
    "    Compute HDI from normalized gni, life and education variables.\n",
    "    \n",
    "    Args:\n",
    "        normalized gni (first entry), life (second entry) and education (third entry).\n",
    "    \n",
    "    Returns: \n",
    "        The HDI (float)\n",
    "    \"\"\" \n",
    "    var = ...\n",
    "    return var **(np.divide(1,3))"
   ]
  },
  {
   "cell_type": "code",
   "execution_count": null,
   "metadata": {},
   "outputs": [],
   "source": [
    "#these three values were calculated using the previous three functions\n",
    "assert calc_hdi(test_gni_ans, test_life_ans, test_ed_ans) == 0.4736930620781577"
   ]
  },
  {
   "cell_type": "markdown",
   "metadata": {},
   "source": [
    "Use .apply() to create three new columns in the life_ed_gni data frame.  \n",
    "\n",
    "* The first new column will be normalized GNI, called 'GNI_n'\n",
    "* The second new column will be normalized life, called 'Life_n'\n",
    "* The third new column will be normalized Education, called 'Ed_n'"
   ]
  },
  {
   "cell_type": "code",
   "execution_count": null,
   "metadata": {},
   "outputs": [],
   "source": [
    "#FILL IN THE ELLIPSES BELOW\n",
    "life_ed_gni['GNI_n']= life_ed_gni['GNI'].apply(...)\n",
    "life_ed_gni['Life_n']= life_ed_gni[...].apply(...)\n",
    "life_ed_gni['Ed_n']= life_ed_gni[...].apply(lambda x: normalize_ed(..., ..., axis=1)"
   ]
  },
  {
   "cell_type": "markdown",
   "metadata": {},
   "source": [
    "Add a column to the data frame called 'HDI' that contains HDI values computed with `calc_hdi`.  "
   ]
  },
  {
   "cell_type": "code",
   "execution_count": null,
   "metadata": {},
   "outputs": [],
   "source": [
    "#YOUR ANSWER HERE\n",
    "life_ed_gni['...'] = life_ed_gni.apply(...)\n",
    "life_ed_gni.head()"
   ]
  }
 ],
 "metadata": {
  "kernelspec": {
   "display_name": "Python 3",
   "language": "python",
   "name": "python3"
  },
  "language_info": {
   "codemirror_mode": {
    "name": "ipython",
    "version": 3
   },
   "file_extension": ".py",
   "mimetype": "text/x-python",
   "name": "python",
   "nbconvert_exporter": "python",
   "pygments_lexer": "ipython3",
   "version": "3.7.3"
  }
 },
 "nbformat": 4,
 "nbformat_minor": 4
}
